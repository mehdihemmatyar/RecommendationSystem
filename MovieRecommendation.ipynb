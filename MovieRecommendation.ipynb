{
  "nbformat": 4,
  "nbformat_minor": 0,
  "metadata": {
    "colab": {
      "provenance": [],
      "mount_file_id": "1WDURrhcwr8j2wfLuQd11mh84QPrHEfN0",
      "authorship_tag": "ABX9TyNya0kCAli8mFuKM2XOEg1b",
      "include_colab_link": true
    },
    "kernelspec": {
      "name": "python3",
      "display_name": "Python 3"
    },
    "language_info": {
      "name": "python"
    }
  },
  "cells": [
    {
      "cell_type": "markdown",
      "metadata": {
        "id": "view-in-github",
        "colab_type": "text"
      },
      "source": [
        "<a href=\"https://colab.research.google.com/github/mehdihemmatyar/RecommendationSystem/blob/main/MovieRecommendation.ipynb\" target=\"_parent\"><img src=\"https://colab.research.google.com/assets/colab-badge.svg\" alt=\"Open In Colab\"/></a>"
      ]
    },
    {
      "cell_type": "code",
      "execution_count": 1,
      "metadata": {
        "id": "mGX94unKKI7t"
      },
      "outputs": [],
      "source": [
        "import pandas as pd\n",
        "import zipfile"
      ]
    },
    {
      "cell_type": "markdown",
      "source": [
        "**Unzip data**"
      ],
      "metadata": {
        "id": "6EgzNQB4nfri"
      }
    },
    {
      "cell_type": "code",
      "source": [
        "\n",
        "# Specify the path to the ZIP file\n",
        "zip_file_path = \"/content/drive/MyDrive/dataset-ml-25m.zip\"\n",
        "\n",
        "# Open the ZIP file\n",
        "with zipfile.ZipFile(zip_file_path, \"r\") as zip_ref:\n",
        "    # Extract all files and directories in the ZIP file\n",
        "    zip_ref.extractall(\"/content/drive/MyDrive\")"
      ],
      "metadata": {
        "id": "X8Q_QIMuO0TE"
      },
      "execution_count": null,
      "outputs": []
    },
    {
      "cell_type": "markdown",
      "source": [
        "**Import datasets**"
      ],
      "metadata": {
        "id": "YVHTBhfCnbXh"
      }
    },
    {
      "cell_type": "code",
      "source": [
        "genom_scores = pd.read_csv(\"/content/drive/MyDrive/ml-25m/genome-scores.csv\")"
      ],
      "metadata": {
        "id": "h6G91LxxPnkA"
      },
      "execution_count": 2,
      "outputs": []
    },
    {
      "cell_type": "code",
      "source": [
        "genom_tags = pd.read_csv(\"/content/drive/MyDrive/ml-25m/genome-tags.csv\")"
      ],
      "metadata": {
        "id": "tA7GNSUHQCW1"
      },
      "execution_count": 5,
      "outputs": []
    },
    {
      "cell_type": "code",
      "source": [
        "movies = pd.read_csv(\"/content/drive/MyDrive/ml-25m/movies.csv\")"
      ],
      "metadata": {
        "id": "DxgUhFcIQRum"
      },
      "execution_count": 7,
      "outputs": []
    },
    {
      "cell_type": "code",
      "source": [
        "tags = pd.read_csv(\"/content/drive/MyDrive/ml-25m/tags.csv\")"
      ],
      "metadata": {
        "id": "Q2Zu8WZxQaW-"
      },
      "execution_count": 8,
      "outputs": []
    },
    {
      "cell_type": "code",
      "source": [
        "ratings = pd.read_csv(\"/content/drive/MyDrive/ml-25m/ratings.csv\") # # we don't need this for content-based recommendation as it contains user ratings"
      ],
      "metadata": {
        "id": "KrhONgTVQWfX"
      },
      "execution_count": 9,
      "outputs": []
    },
    {
      "cell_type": "markdown",
      "source": [
        "**Data Preparation**"
      ],
      "metadata": {
        "id": "5gk4NLmKn1wj"
      }
    },
    {
      "cell_type": "code",
      "source": [
        "movies.drop_duplicates(inplace=True)\n",
        "ratings.drop_duplicates(inplace=True)\n",
        "tags.drop_duplicates(inplace=True)\n",
        "genom_scores.drop_duplicates(inplace=True)\n",
        "genom_tags.drop_duplicates(inplace=True)\n",
        "\n",
        "movies.fillna('', inplace=True)\n",
        "ratings.fillna(0, inplace=True)\n",
        "tags.fillna('', inplace=True)\n",
        "genom_scores.fillna(0, inplace=True)\n",
        "genom_tags.fillna('', inplace=True)\n"
      ],
      "metadata": {
        "id": "ZeT6b7JWR0OD"
      },
      "execution_count": 10,
      "outputs": []
    },
    {
      "cell_type": "markdown",
      "source": [
        "**Filter relevant tags**\n"
      ],
      "metadata": {
        "id": "Xm98WafoqKRy"
      }
    },
    {
      "cell_type": "code",
      "source": [
        "filtered_genom_scores = genom_scores[genom_scores['relevance']>0.8]"
      ],
      "metadata": {
        "id": "8PreJ9u6E60N"
      },
      "execution_count": 11,
      "outputs": []
    },
    {
      "cell_type": "markdown",
      "source": [
        "show some samples"
      ],
      "metadata": {
        "id": "sOs9iMozn80z"
      }
    },
    {
      "cell_type": "code",
      "source": [
        "genom_scores.head()"
      ],
      "metadata": {
        "colab": {
          "base_uri": "https://localhost:8080/",
          "height": 206
        },
        "id": "VWWn8AENBXR4",
        "outputId": "16845055-143b-4572-a1f6-ce3272fc00a2"
      },
      "execution_count": 3,
      "outputs": [
        {
          "output_type": "execute_result",
          "data": {
            "text/plain": [
              "   movieId  tagId  relevance\n",
              "0        1      1    0.02875\n",
              "1        1      2    0.02375\n",
              "2        1      3    0.06250\n",
              "3        1      4    0.07575\n",
              "4        1      5    0.14075"
            ],
            "text/html": [
              "\n",
              "  <div id=\"df-5f162676-3434-4d2d-81ef-ff58c6887ecf\">\n",
              "    <div class=\"colab-df-container\">\n",
              "      <div>\n",
              "<style scoped>\n",
              "    .dataframe tbody tr th:only-of-type {\n",
              "        vertical-align: middle;\n",
              "    }\n",
              "\n",
              "    .dataframe tbody tr th {\n",
              "        vertical-align: top;\n",
              "    }\n",
              "\n",
              "    .dataframe thead th {\n",
              "        text-align: right;\n",
              "    }\n",
              "</style>\n",
              "<table border=\"1\" class=\"dataframe\">\n",
              "  <thead>\n",
              "    <tr style=\"text-align: right;\">\n",
              "      <th></th>\n",
              "      <th>movieId</th>\n",
              "      <th>tagId</th>\n",
              "      <th>relevance</th>\n",
              "    </tr>\n",
              "  </thead>\n",
              "  <tbody>\n",
              "    <tr>\n",
              "      <th>0</th>\n",
              "      <td>1</td>\n",
              "      <td>1</td>\n",
              "      <td>0.02875</td>\n",
              "    </tr>\n",
              "    <tr>\n",
              "      <th>1</th>\n",
              "      <td>1</td>\n",
              "      <td>2</td>\n",
              "      <td>0.02375</td>\n",
              "    </tr>\n",
              "    <tr>\n",
              "      <th>2</th>\n",
              "      <td>1</td>\n",
              "      <td>3</td>\n",
              "      <td>0.06250</td>\n",
              "    </tr>\n",
              "    <tr>\n",
              "      <th>3</th>\n",
              "      <td>1</td>\n",
              "      <td>4</td>\n",
              "      <td>0.07575</td>\n",
              "    </tr>\n",
              "    <tr>\n",
              "      <th>4</th>\n",
              "      <td>1</td>\n",
              "      <td>5</td>\n",
              "      <td>0.14075</td>\n",
              "    </tr>\n",
              "  </tbody>\n",
              "</table>\n",
              "</div>\n",
              "      <button class=\"colab-df-convert\" onclick=\"convertToInteractive('df-5f162676-3434-4d2d-81ef-ff58c6887ecf')\"\n",
              "              title=\"Convert this dataframe to an interactive table.\"\n",
              "              style=\"display:none;\">\n",
              "        \n",
              "  <svg xmlns=\"http://www.w3.org/2000/svg\" height=\"24px\"viewBox=\"0 0 24 24\"\n",
              "       width=\"24px\">\n",
              "    <path d=\"M0 0h24v24H0V0z\" fill=\"none\"/>\n",
              "    <path d=\"M18.56 5.44l.94 2.06.94-2.06 2.06-.94-2.06-.94-.94-2.06-.94 2.06-2.06.94zm-11 1L8.5 8.5l.94-2.06 2.06-.94-2.06-.94L8.5 2.5l-.94 2.06-2.06.94zm10 10l.94 2.06.94-2.06 2.06-.94-2.06-.94-.94-2.06-.94 2.06-2.06.94z\"/><path d=\"M17.41 7.96l-1.37-1.37c-.4-.4-.92-.59-1.43-.59-.52 0-1.04.2-1.43.59L10.3 9.45l-7.72 7.72c-.78.78-.78 2.05 0 2.83L4 21.41c.39.39.9.59 1.41.59.51 0 1.02-.2 1.41-.59l7.78-7.78 2.81-2.81c.8-.78.8-2.07 0-2.86zM5.41 20L4 18.59l7.72-7.72 1.47 1.35L5.41 20z\"/>\n",
              "  </svg>\n",
              "      </button>\n",
              "      \n",
              "  <style>\n",
              "    .colab-df-container {\n",
              "      display:flex;\n",
              "      flex-wrap:wrap;\n",
              "      gap: 12px;\n",
              "    }\n",
              "\n",
              "    .colab-df-convert {\n",
              "      background-color: #E8F0FE;\n",
              "      border: none;\n",
              "      border-radius: 50%;\n",
              "      cursor: pointer;\n",
              "      display: none;\n",
              "      fill: #1967D2;\n",
              "      height: 32px;\n",
              "      padding: 0 0 0 0;\n",
              "      width: 32px;\n",
              "    }\n",
              "\n",
              "    .colab-df-convert:hover {\n",
              "      background-color: #E2EBFA;\n",
              "      box-shadow: 0px 1px 2px rgba(60, 64, 67, 0.3), 0px 1px 3px 1px rgba(60, 64, 67, 0.15);\n",
              "      fill: #174EA6;\n",
              "    }\n",
              "\n",
              "    [theme=dark] .colab-df-convert {\n",
              "      background-color: #3B4455;\n",
              "      fill: #D2E3FC;\n",
              "    }\n",
              "\n",
              "    [theme=dark] .colab-df-convert:hover {\n",
              "      background-color: #434B5C;\n",
              "      box-shadow: 0px 1px 3px 1px rgba(0, 0, 0, 0.15);\n",
              "      filter: drop-shadow(0px 1px 2px rgba(0, 0, 0, 0.3));\n",
              "      fill: #FFFFFF;\n",
              "    }\n",
              "  </style>\n",
              "\n",
              "      <script>\n",
              "        const buttonEl =\n",
              "          document.querySelector('#df-5f162676-3434-4d2d-81ef-ff58c6887ecf button.colab-df-convert');\n",
              "        buttonEl.style.display =\n",
              "          google.colab.kernel.accessAllowed ? 'block' : 'none';\n",
              "\n",
              "        async function convertToInteractive(key) {\n",
              "          const element = document.querySelector('#df-5f162676-3434-4d2d-81ef-ff58c6887ecf');\n",
              "          const dataTable =\n",
              "            await google.colab.kernel.invokeFunction('convertToInteractive',\n",
              "                                                     [key], {});\n",
              "          if (!dataTable) return;\n",
              "\n",
              "          const docLinkHtml = 'Like what you see? Visit the ' +\n",
              "            '<a target=\"_blank\" href=https://colab.research.google.com/notebooks/data_table.ipynb>data table notebook</a>'\n",
              "            + ' to learn more about interactive tables.';\n",
              "          element.innerHTML = '';\n",
              "          dataTable['output_type'] = 'display_data';\n",
              "          await google.colab.output.renderOutput(dataTable, element);\n",
              "          const docLink = document.createElement('div');\n",
              "          docLink.innerHTML = docLinkHtml;\n",
              "          element.appendChild(docLink);\n",
              "        }\n",
              "      </script>\n",
              "    </div>\n",
              "  </div>\n",
              "  "
            ]
          },
          "metadata": {},
          "execution_count": 3
        }
      ]
    },
    {
      "cell_type": "code",
      "source": [
        "genom_tags.head()"
      ],
      "metadata": {
        "colab": {
          "base_uri": "https://localhost:8080/",
          "height": 206
        },
        "id": "bSURpQqPBcpf",
        "outputId": "32d79ded-d8cb-4175-b908-8cacc59afaa9"
      },
      "execution_count": 13,
      "outputs": [
        {
          "output_type": "execute_result",
          "data": {
            "text/plain": [
              "   tagId           tag\n",
              "0      1           007\n",
              "1      2  007 (series)\n",
              "2      3  18th century\n",
              "3      4         1920s\n",
              "4      5         1930s"
            ],
            "text/html": [
              "\n",
              "  <div id=\"df-eabe6d11-2328-4423-b1d5-d0f7ab481880\">\n",
              "    <div class=\"colab-df-container\">\n",
              "      <div>\n",
              "<style scoped>\n",
              "    .dataframe tbody tr th:only-of-type {\n",
              "        vertical-align: middle;\n",
              "    }\n",
              "\n",
              "    .dataframe tbody tr th {\n",
              "        vertical-align: top;\n",
              "    }\n",
              "\n",
              "    .dataframe thead th {\n",
              "        text-align: right;\n",
              "    }\n",
              "</style>\n",
              "<table border=\"1\" class=\"dataframe\">\n",
              "  <thead>\n",
              "    <tr style=\"text-align: right;\">\n",
              "      <th></th>\n",
              "      <th>tagId</th>\n",
              "      <th>tag</th>\n",
              "    </tr>\n",
              "  </thead>\n",
              "  <tbody>\n",
              "    <tr>\n",
              "      <th>0</th>\n",
              "      <td>1</td>\n",
              "      <td>007</td>\n",
              "    </tr>\n",
              "    <tr>\n",
              "      <th>1</th>\n",
              "      <td>2</td>\n",
              "      <td>007 (series)</td>\n",
              "    </tr>\n",
              "    <tr>\n",
              "      <th>2</th>\n",
              "      <td>3</td>\n",
              "      <td>18th century</td>\n",
              "    </tr>\n",
              "    <tr>\n",
              "      <th>3</th>\n",
              "      <td>4</td>\n",
              "      <td>1920s</td>\n",
              "    </tr>\n",
              "    <tr>\n",
              "      <th>4</th>\n",
              "      <td>5</td>\n",
              "      <td>1930s</td>\n",
              "    </tr>\n",
              "  </tbody>\n",
              "</table>\n",
              "</div>\n",
              "      <button class=\"colab-df-convert\" onclick=\"convertToInteractive('df-eabe6d11-2328-4423-b1d5-d0f7ab481880')\"\n",
              "              title=\"Convert this dataframe to an interactive table.\"\n",
              "              style=\"display:none;\">\n",
              "        \n",
              "  <svg xmlns=\"http://www.w3.org/2000/svg\" height=\"24px\"viewBox=\"0 0 24 24\"\n",
              "       width=\"24px\">\n",
              "    <path d=\"M0 0h24v24H0V0z\" fill=\"none\"/>\n",
              "    <path d=\"M18.56 5.44l.94 2.06.94-2.06 2.06-.94-2.06-.94-.94-2.06-.94 2.06-2.06.94zm-11 1L8.5 8.5l.94-2.06 2.06-.94-2.06-.94L8.5 2.5l-.94 2.06-2.06.94zm10 10l.94 2.06.94-2.06 2.06-.94-2.06-.94-.94-2.06-.94 2.06-2.06.94z\"/><path d=\"M17.41 7.96l-1.37-1.37c-.4-.4-.92-.59-1.43-.59-.52 0-1.04.2-1.43.59L10.3 9.45l-7.72 7.72c-.78.78-.78 2.05 0 2.83L4 21.41c.39.39.9.59 1.41.59.51 0 1.02-.2 1.41-.59l7.78-7.78 2.81-2.81c.8-.78.8-2.07 0-2.86zM5.41 20L4 18.59l7.72-7.72 1.47 1.35L5.41 20z\"/>\n",
              "  </svg>\n",
              "      </button>\n",
              "      \n",
              "  <style>\n",
              "    .colab-df-container {\n",
              "      display:flex;\n",
              "      flex-wrap:wrap;\n",
              "      gap: 12px;\n",
              "    }\n",
              "\n",
              "    .colab-df-convert {\n",
              "      background-color: #E8F0FE;\n",
              "      border: none;\n",
              "      border-radius: 50%;\n",
              "      cursor: pointer;\n",
              "      display: none;\n",
              "      fill: #1967D2;\n",
              "      height: 32px;\n",
              "      padding: 0 0 0 0;\n",
              "      width: 32px;\n",
              "    }\n",
              "\n",
              "    .colab-df-convert:hover {\n",
              "      background-color: #E2EBFA;\n",
              "      box-shadow: 0px 1px 2px rgba(60, 64, 67, 0.3), 0px 1px 3px 1px rgba(60, 64, 67, 0.15);\n",
              "      fill: #174EA6;\n",
              "    }\n",
              "\n",
              "    [theme=dark] .colab-df-convert {\n",
              "      background-color: #3B4455;\n",
              "      fill: #D2E3FC;\n",
              "    }\n",
              "\n",
              "    [theme=dark] .colab-df-convert:hover {\n",
              "      background-color: #434B5C;\n",
              "      box-shadow: 0px 1px 3px 1px rgba(0, 0, 0, 0.15);\n",
              "      filter: drop-shadow(0px 1px 2px rgba(0, 0, 0, 0.3));\n",
              "      fill: #FFFFFF;\n",
              "    }\n",
              "  </style>\n",
              "\n",
              "      <script>\n",
              "        const buttonEl =\n",
              "          document.querySelector('#df-eabe6d11-2328-4423-b1d5-d0f7ab481880 button.colab-df-convert');\n",
              "        buttonEl.style.display =\n",
              "          google.colab.kernel.accessAllowed ? 'block' : 'none';\n",
              "\n",
              "        async function convertToInteractive(key) {\n",
              "          const element = document.querySelector('#df-eabe6d11-2328-4423-b1d5-d0f7ab481880');\n",
              "          const dataTable =\n",
              "            await google.colab.kernel.invokeFunction('convertToInteractive',\n",
              "                                                     [key], {});\n",
              "          if (!dataTable) return;\n",
              "\n",
              "          const docLinkHtml = 'Like what you see? Visit the ' +\n",
              "            '<a target=\"_blank\" href=https://colab.research.google.com/notebooks/data_table.ipynb>data table notebook</a>'\n",
              "            + ' to learn more about interactive tables.';\n",
              "          element.innerHTML = '';\n",
              "          dataTable['output_type'] = 'display_data';\n",
              "          await google.colab.output.renderOutput(dataTable, element);\n",
              "          const docLink = document.createElement('div');\n",
              "          docLink.innerHTML = docLinkHtml;\n",
              "          element.appendChild(docLink);\n",
              "        }\n",
              "      </script>\n",
              "    </div>\n",
              "  </div>\n",
              "  "
            ]
          },
          "metadata": {},
          "execution_count": 13
        }
      ]
    },
    {
      "cell_type": "markdown",
      "source": [
        "**Convert tagId to tag name**"
      ],
      "metadata": {
        "id": "y8cssVGOoK4K"
      }
    },
    {
      "cell_type": "code",
      "source": [
        "merged_genom_tag = filtered_genom_scores.merge(genom_tags, on='tagId')\n"
      ],
      "metadata": {
        "id": "wBbF9BFRITMA"
      },
      "execution_count": 14,
      "outputs": []
    },
    {
      "cell_type": "code",
      "source": [
        "merged_genom_tag.head()"
      ],
      "metadata": {
        "colab": {
          "base_uri": "https://localhost:8080/",
          "height": 206
        },
        "id": "YdlrI2fwI50w",
        "outputId": "c090d93e-c8c3-421e-8b23-b0ff9ea0218c"
      },
      "execution_count": 15,
      "outputs": [
        {
          "output_type": "execute_result",
          "data": {
            "text/plain": [
              "   movieId  tagId  relevance        tag\n",
              "0        1     29    0.89375  adventure\n",
              "1        2     29    0.97600  adventure\n",
              "2       10     29    0.80175  adventure\n",
              "3       15     29    0.97475  adventure\n",
              "4      146     29    0.83600  adventure"
            ],
            "text/html": [
              "\n",
              "  <div id=\"df-f7c77ae3-c414-4c78-a9aa-008198115477\">\n",
              "    <div class=\"colab-df-container\">\n",
              "      <div>\n",
              "<style scoped>\n",
              "    .dataframe tbody tr th:only-of-type {\n",
              "        vertical-align: middle;\n",
              "    }\n",
              "\n",
              "    .dataframe tbody tr th {\n",
              "        vertical-align: top;\n",
              "    }\n",
              "\n",
              "    .dataframe thead th {\n",
              "        text-align: right;\n",
              "    }\n",
              "</style>\n",
              "<table border=\"1\" class=\"dataframe\">\n",
              "  <thead>\n",
              "    <tr style=\"text-align: right;\">\n",
              "      <th></th>\n",
              "      <th>movieId</th>\n",
              "      <th>tagId</th>\n",
              "      <th>relevance</th>\n",
              "      <th>tag</th>\n",
              "    </tr>\n",
              "  </thead>\n",
              "  <tbody>\n",
              "    <tr>\n",
              "      <th>0</th>\n",
              "      <td>1</td>\n",
              "      <td>29</td>\n",
              "      <td>0.89375</td>\n",
              "      <td>adventure</td>\n",
              "    </tr>\n",
              "    <tr>\n",
              "      <th>1</th>\n",
              "      <td>2</td>\n",
              "      <td>29</td>\n",
              "      <td>0.97600</td>\n",
              "      <td>adventure</td>\n",
              "    </tr>\n",
              "    <tr>\n",
              "      <th>2</th>\n",
              "      <td>10</td>\n",
              "      <td>29</td>\n",
              "      <td>0.80175</td>\n",
              "      <td>adventure</td>\n",
              "    </tr>\n",
              "    <tr>\n",
              "      <th>3</th>\n",
              "      <td>15</td>\n",
              "      <td>29</td>\n",
              "      <td>0.97475</td>\n",
              "      <td>adventure</td>\n",
              "    </tr>\n",
              "    <tr>\n",
              "      <th>4</th>\n",
              "      <td>146</td>\n",
              "      <td>29</td>\n",
              "      <td>0.83600</td>\n",
              "      <td>adventure</td>\n",
              "    </tr>\n",
              "  </tbody>\n",
              "</table>\n",
              "</div>\n",
              "      <button class=\"colab-df-convert\" onclick=\"convertToInteractive('df-f7c77ae3-c414-4c78-a9aa-008198115477')\"\n",
              "              title=\"Convert this dataframe to an interactive table.\"\n",
              "              style=\"display:none;\">\n",
              "        \n",
              "  <svg xmlns=\"http://www.w3.org/2000/svg\" height=\"24px\"viewBox=\"0 0 24 24\"\n",
              "       width=\"24px\">\n",
              "    <path d=\"M0 0h24v24H0V0z\" fill=\"none\"/>\n",
              "    <path d=\"M18.56 5.44l.94 2.06.94-2.06 2.06-.94-2.06-.94-.94-2.06-.94 2.06-2.06.94zm-11 1L8.5 8.5l.94-2.06 2.06-.94-2.06-.94L8.5 2.5l-.94 2.06-2.06.94zm10 10l.94 2.06.94-2.06 2.06-.94-2.06-.94-.94-2.06-.94 2.06-2.06.94z\"/><path d=\"M17.41 7.96l-1.37-1.37c-.4-.4-.92-.59-1.43-.59-.52 0-1.04.2-1.43.59L10.3 9.45l-7.72 7.72c-.78.78-.78 2.05 0 2.83L4 21.41c.39.39.9.59 1.41.59.51 0 1.02-.2 1.41-.59l7.78-7.78 2.81-2.81c.8-.78.8-2.07 0-2.86zM5.41 20L4 18.59l7.72-7.72 1.47 1.35L5.41 20z\"/>\n",
              "  </svg>\n",
              "      </button>\n",
              "      \n",
              "  <style>\n",
              "    .colab-df-container {\n",
              "      display:flex;\n",
              "      flex-wrap:wrap;\n",
              "      gap: 12px;\n",
              "    }\n",
              "\n",
              "    .colab-df-convert {\n",
              "      background-color: #E8F0FE;\n",
              "      border: none;\n",
              "      border-radius: 50%;\n",
              "      cursor: pointer;\n",
              "      display: none;\n",
              "      fill: #1967D2;\n",
              "      height: 32px;\n",
              "      padding: 0 0 0 0;\n",
              "      width: 32px;\n",
              "    }\n",
              "\n",
              "    .colab-df-convert:hover {\n",
              "      background-color: #E2EBFA;\n",
              "      box-shadow: 0px 1px 2px rgba(60, 64, 67, 0.3), 0px 1px 3px 1px rgba(60, 64, 67, 0.15);\n",
              "      fill: #174EA6;\n",
              "    }\n",
              "\n",
              "    [theme=dark] .colab-df-convert {\n",
              "      background-color: #3B4455;\n",
              "      fill: #D2E3FC;\n",
              "    }\n",
              "\n",
              "    [theme=dark] .colab-df-convert:hover {\n",
              "      background-color: #434B5C;\n",
              "      box-shadow: 0px 1px 3px 1px rgba(0, 0, 0, 0.15);\n",
              "      filter: drop-shadow(0px 1px 2px rgba(0, 0, 0, 0.3));\n",
              "      fill: #FFFFFF;\n",
              "    }\n",
              "  </style>\n",
              "\n",
              "      <script>\n",
              "        const buttonEl =\n",
              "          document.querySelector('#df-f7c77ae3-c414-4c78-a9aa-008198115477 button.colab-df-convert');\n",
              "        buttonEl.style.display =\n",
              "          google.colab.kernel.accessAllowed ? 'block' : 'none';\n",
              "\n",
              "        async function convertToInteractive(key) {\n",
              "          const element = document.querySelector('#df-f7c77ae3-c414-4c78-a9aa-008198115477');\n",
              "          const dataTable =\n",
              "            await google.colab.kernel.invokeFunction('convertToInteractive',\n",
              "                                                     [key], {});\n",
              "          if (!dataTable) return;\n",
              "\n",
              "          const docLinkHtml = 'Like what you see? Visit the ' +\n",
              "            '<a target=\"_blank\" href=https://colab.research.google.com/notebooks/data_table.ipynb>data table notebook</a>'\n",
              "            + ' to learn more about interactive tables.';\n",
              "          element.innerHTML = '';\n",
              "          dataTable['output_type'] = 'display_data';\n",
              "          await google.colab.output.renderOutput(dataTable, element);\n",
              "          const docLink = document.createElement('div');\n",
              "          docLink.innerHTML = docLinkHtml;\n",
              "          element.appendChild(docLink);\n",
              "        }\n",
              "      </script>\n",
              "    </div>\n",
              "  </div>\n",
              "  "
            ]
          },
          "metadata": {},
          "execution_count": 15
        }
      ]
    },
    {
      "cell_type": "markdown",
      "source": [
        "**Group by movieId**\n"
      ],
      "metadata": {
        "id": "mTJjhvMSoRM4"
      }
    },
    {
      "cell_type": "code",
      "source": [
        "gp_genom_tag = merged_genom_tag.groupby('movieId')['tag'].apply(lambda x: ' '.join(x))"
      ],
      "metadata": {
        "id": "zI3RfkA2mr5I"
      },
      "execution_count": 16,
      "outputs": []
    },
    {
      "cell_type": "markdown",
      "source": [
        "**Combine genres and tags into a consolidated dataset**"
      ],
      "metadata": {
        "id": "kmH-a3-RqiUM"
      }
    },
    {
      "cell_type": "code",
      "source": [
        "\n",
        "movie_genres = movies['genres'].str.replace('|', \" \")\n",
        "movie_tags = tags.groupby('movieId')['tag'].apply(lambda x: ' '.join(x)).reset_index()\n",
        "\n",
        "consolidated_data = pd.merge(movies, movie_tags, on='movieId')\n",
        "consolidated_data = pd.merge(consolidated_data, gp_genom_tag, on='movieId')\n"
      ],
      "metadata": {
        "colab": {
          "base_uri": "https://localhost:8080/"
        },
        "id": "zNtFoyZ0TEO5",
        "outputId": "39a7e053-4991-4473-ab1c-ada2a35c7248"
      },
      "execution_count": 18,
      "outputs": [
        {
          "output_type": "stream",
          "name": "stderr",
          "text": [
            "<ipython-input-18-e36eb0026712>:2: FutureWarning: The default value of regex will change from True to False in a future version. In addition, single character regular expressions will *not* be treated as literal strings when regex=True.\n",
            "  movie_genres = movies['genres'].str.replace('|', \" \")\n"
          ]
        }
      ]
    },
    {
      "cell_type": "code",
      "source": [
        "consolidated_data"
      ],
      "metadata": {
        "colab": {
          "base_uri": "https://localhost:8080/",
          "height": 424
        },
        "id": "ItGOO1_PJ68I",
        "outputId": "29316e2d-966c-42a2-d2b9-61c5d93c85e6"
      },
      "execution_count": 19,
      "outputs": [
        {
          "output_type": "execute_result",
          "data": {
            "text/plain": [
              "       movieId                                   title  \\\n",
              "0            1                        Toy Story (1995)   \n",
              "1            2                          Jumanji (1995)   \n",
              "2            3                 Grumpier Old Men (1995)   \n",
              "3            4                Waiting to Exhale (1995)   \n",
              "4            5      Father of the Bride Part II (1995)   \n",
              "...        ...                                     ...   \n",
              "13332   205072           Zombieland: Double Tap (2019)   \n",
              "13333   205076                    Downton Abbey (2019)   \n",
              "13334   205383  El Camino: A Breaking Bad Movie (2019)   \n",
              "13335   205425  Dave Chappelle: Sticks & Stones (2019)   \n",
              "13336   206499     Between Two Ferns: The Movie (2019)   \n",
              "\n",
              "                                            genres  \\\n",
              "0      Adventure|Animation|Children|Comedy|Fantasy   \n",
              "1                       Adventure|Children|Fantasy   \n",
              "2                                   Comedy|Romance   \n",
              "3                             Comedy|Drama|Romance   \n",
              "4                                           Comedy   \n",
              "...                                            ...   \n",
              "13332                         Action|Comedy|Horror   \n",
              "13333                                        Drama   \n",
              "13334                         Crime|Drama|Thriller   \n",
              "13335                                       Comedy   \n",
              "13336                                       Comedy   \n",
              "\n",
              "                                                   tag_x  \\\n",
              "0      Owned imdb top 250 Pixar Pixar time travel chi...   \n",
              "1      Robin Williams time travel fantasy based on ch...   \n",
              "2      funny best friend duringcreditsstinger fishing...   \n",
              "3      based on novel or book chick flick divorce int...   \n",
              "4      aging baby confidence contraception daughter g...   \n",
              "...                                                  ...   \n",
              "13332  All-Star Cast Jesse Eisenberg Logo Joke The St...   \n",
              "13333                  period drama period drama theater   \n",
              "13334  breaking bad breaking bad cinematography Vince...   \n",
              "13335  stand-up comedy stand-up comedy comedy Politic...   \n",
              "13336                                   road trip tivo19   \n",
              "\n",
              "                                                   tag_y  \n",
              "0      adventure animated animation cartoon cgi child...  \n",
              "1      adventure childhood children family kids anima...  \n",
              "2                      comedy good sequel sequel sequels  \n",
              "3                              chick flick divorce women  \n",
              "4      family comedy good sequel sequel sequels fathe...  \n",
              "...                                                  ...  \n",
              "13332                 friendship original dumb but funny  \n",
              "13333                                       girlie movie  \n",
              "13334                                           original  \n",
              "13335                    original comedy stand-up comedy  \n",
              "13336                                     original pg-13  \n",
              "\n",
              "[13337 rows x 5 columns]"
            ],
            "text/html": [
              "\n",
              "  <div id=\"df-98f5b247-dbf7-4ad8-b745-701e11a003df\">\n",
              "    <div class=\"colab-df-container\">\n",
              "      <div>\n",
              "<style scoped>\n",
              "    .dataframe tbody tr th:only-of-type {\n",
              "        vertical-align: middle;\n",
              "    }\n",
              "\n",
              "    .dataframe tbody tr th {\n",
              "        vertical-align: top;\n",
              "    }\n",
              "\n",
              "    .dataframe thead th {\n",
              "        text-align: right;\n",
              "    }\n",
              "</style>\n",
              "<table border=\"1\" class=\"dataframe\">\n",
              "  <thead>\n",
              "    <tr style=\"text-align: right;\">\n",
              "      <th></th>\n",
              "      <th>movieId</th>\n",
              "      <th>title</th>\n",
              "      <th>genres</th>\n",
              "      <th>tag_x</th>\n",
              "      <th>tag_y</th>\n",
              "    </tr>\n",
              "  </thead>\n",
              "  <tbody>\n",
              "    <tr>\n",
              "      <th>0</th>\n",
              "      <td>1</td>\n",
              "      <td>Toy Story (1995)</td>\n",
              "      <td>Adventure|Animation|Children|Comedy|Fantasy</td>\n",
              "      <td>Owned imdb top 250 Pixar Pixar time travel chi...</td>\n",
              "      <td>adventure animated animation cartoon cgi child...</td>\n",
              "    </tr>\n",
              "    <tr>\n",
              "      <th>1</th>\n",
              "      <td>2</td>\n",
              "      <td>Jumanji (1995)</td>\n",
              "      <td>Adventure|Children|Fantasy</td>\n",
              "      <td>Robin Williams time travel fantasy based on ch...</td>\n",
              "      <td>adventure childhood children family kids anima...</td>\n",
              "    </tr>\n",
              "    <tr>\n",
              "      <th>2</th>\n",
              "      <td>3</td>\n",
              "      <td>Grumpier Old Men (1995)</td>\n",
              "      <td>Comedy|Romance</td>\n",
              "      <td>funny best friend duringcreditsstinger fishing...</td>\n",
              "      <td>comedy good sequel sequel sequels</td>\n",
              "    </tr>\n",
              "    <tr>\n",
              "      <th>3</th>\n",
              "      <td>4</td>\n",
              "      <td>Waiting to Exhale (1995)</td>\n",
              "      <td>Comedy|Drama|Romance</td>\n",
              "      <td>based on novel or book chick flick divorce int...</td>\n",
              "      <td>chick flick divorce women</td>\n",
              "    </tr>\n",
              "    <tr>\n",
              "      <th>4</th>\n",
              "      <td>5</td>\n",
              "      <td>Father of the Bride Part II (1995)</td>\n",
              "      <td>Comedy</td>\n",
              "      <td>aging baby confidence contraception daughter g...</td>\n",
              "      <td>family comedy good sequel sequel sequels fathe...</td>\n",
              "    </tr>\n",
              "    <tr>\n",
              "      <th>...</th>\n",
              "      <td>...</td>\n",
              "      <td>...</td>\n",
              "      <td>...</td>\n",
              "      <td>...</td>\n",
              "      <td>...</td>\n",
              "    </tr>\n",
              "    <tr>\n",
              "      <th>13332</th>\n",
              "      <td>205072</td>\n",
              "      <td>Zombieland: Double Tap (2019)</td>\n",
              "      <td>Action|Comedy|Horror</td>\n",
              "      <td>All-Star Cast Jesse Eisenberg Logo Joke The St...</td>\n",
              "      <td>friendship original dumb but funny</td>\n",
              "    </tr>\n",
              "    <tr>\n",
              "      <th>13333</th>\n",
              "      <td>205076</td>\n",
              "      <td>Downton Abbey (2019)</td>\n",
              "      <td>Drama</td>\n",
              "      <td>period drama period drama theater</td>\n",
              "      <td>girlie movie</td>\n",
              "    </tr>\n",
              "    <tr>\n",
              "      <th>13334</th>\n",
              "      <td>205383</td>\n",
              "      <td>El Camino: A Breaking Bad Movie (2019)</td>\n",
              "      <td>Crime|Drama|Thriller</td>\n",
              "      <td>breaking bad breaking bad cinematography Vince...</td>\n",
              "      <td>original</td>\n",
              "    </tr>\n",
              "    <tr>\n",
              "      <th>13335</th>\n",
              "      <td>205425</td>\n",
              "      <td>Dave Chappelle: Sticks &amp; Stones (2019)</td>\n",
              "      <td>Comedy</td>\n",
              "      <td>stand-up comedy stand-up comedy comedy Politic...</td>\n",
              "      <td>original comedy stand-up comedy</td>\n",
              "    </tr>\n",
              "    <tr>\n",
              "      <th>13336</th>\n",
              "      <td>206499</td>\n",
              "      <td>Between Two Ferns: The Movie (2019)</td>\n",
              "      <td>Comedy</td>\n",
              "      <td>road trip tivo19</td>\n",
              "      <td>original pg-13</td>\n",
              "    </tr>\n",
              "  </tbody>\n",
              "</table>\n",
              "<p>13337 rows × 5 columns</p>\n",
              "</div>\n",
              "      <button class=\"colab-df-convert\" onclick=\"convertToInteractive('df-98f5b247-dbf7-4ad8-b745-701e11a003df')\"\n",
              "              title=\"Convert this dataframe to an interactive table.\"\n",
              "              style=\"display:none;\">\n",
              "        \n",
              "  <svg xmlns=\"http://www.w3.org/2000/svg\" height=\"24px\"viewBox=\"0 0 24 24\"\n",
              "       width=\"24px\">\n",
              "    <path d=\"M0 0h24v24H0V0z\" fill=\"none\"/>\n",
              "    <path d=\"M18.56 5.44l.94 2.06.94-2.06 2.06-.94-2.06-.94-.94-2.06-.94 2.06-2.06.94zm-11 1L8.5 8.5l.94-2.06 2.06-.94-2.06-.94L8.5 2.5l-.94 2.06-2.06.94zm10 10l.94 2.06.94-2.06 2.06-.94-2.06-.94-.94-2.06-.94 2.06-2.06.94z\"/><path d=\"M17.41 7.96l-1.37-1.37c-.4-.4-.92-.59-1.43-.59-.52 0-1.04.2-1.43.59L10.3 9.45l-7.72 7.72c-.78.78-.78 2.05 0 2.83L4 21.41c.39.39.9.59 1.41.59.51 0 1.02-.2 1.41-.59l7.78-7.78 2.81-2.81c.8-.78.8-2.07 0-2.86zM5.41 20L4 18.59l7.72-7.72 1.47 1.35L5.41 20z\"/>\n",
              "  </svg>\n",
              "      </button>\n",
              "      \n",
              "  <style>\n",
              "    .colab-df-container {\n",
              "      display:flex;\n",
              "      flex-wrap:wrap;\n",
              "      gap: 12px;\n",
              "    }\n",
              "\n",
              "    .colab-df-convert {\n",
              "      background-color: #E8F0FE;\n",
              "      border: none;\n",
              "      border-radius: 50%;\n",
              "      cursor: pointer;\n",
              "      display: none;\n",
              "      fill: #1967D2;\n",
              "      height: 32px;\n",
              "      padding: 0 0 0 0;\n",
              "      width: 32px;\n",
              "    }\n",
              "\n",
              "    .colab-df-convert:hover {\n",
              "      background-color: #E2EBFA;\n",
              "      box-shadow: 0px 1px 2px rgba(60, 64, 67, 0.3), 0px 1px 3px 1px rgba(60, 64, 67, 0.15);\n",
              "      fill: #174EA6;\n",
              "    }\n",
              "\n",
              "    [theme=dark] .colab-df-convert {\n",
              "      background-color: #3B4455;\n",
              "      fill: #D2E3FC;\n",
              "    }\n",
              "\n",
              "    [theme=dark] .colab-df-convert:hover {\n",
              "      background-color: #434B5C;\n",
              "      box-shadow: 0px 1px 3px 1px rgba(0, 0, 0, 0.15);\n",
              "      filter: drop-shadow(0px 1px 2px rgba(0, 0, 0, 0.3));\n",
              "      fill: #FFFFFF;\n",
              "    }\n",
              "  </style>\n",
              "\n",
              "      <script>\n",
              "        const buttonEl =\n",
              "          document.querySelector('#df-98f5b247-dbf7-4ad8-b745-701e11a003df button.colab-df-convert');\n",
              "        buttonEl.style.display =\n",
              "          google.colab.kernel.accessAllowed ? 'block' : 'none';\n",
              "\n",
              "        async function convertToInteractive(key) {\n",
              "          const element = document.querySelector('#df-98f5b247-dbf7-4ad8-b745-701e11a003df');\n",
              "          const dataTable =\n",
              "            await google.colab.kernel.invokeFunction('convertToInteractive',\n",
              "                                                     [key], {});\n",
              "          if (!dataTable) return;\n",
              "\n",
              "          const docLinkHtml = 'Like what you see? Visit the ' +\n",
              "            '<a target=\"_blank\" href=https://colab.research.google.com/notebooks/data_table.ipynb>data table notebook</a>'\n",
              "            + ' to learn more about interactive tables.';\n",
              "          element.innerHTML = '';\n",
              "          dataTable['output_type'] = 'display_data';\n",
              "          await google.colab.output.renderOutput(dataTable, element);\n",
              "          const docLink = document.createElement('div');\n",
              "          docLink.innerHTML = docLinkHtml;\n",
              "          element.appendChild(docLink);\n",
              "        }\n",
              "      </script>\n",
              "    </div>\n",
              "  </div>\n",
              "  "
            ]
          },
          "metadata": {},
          "execution_count": 19
        }
      ]
    },
    {
      "cell_type": "markdown",
      "source": [
        "**Subset of data due to limited RAM**"
      ],
      "metadata": {
        "id": "S-69yxhwoflK"
      }
    },
    {
      "cell_type": "code",
      "source": [
        "subset_movies = consolidated_data.head(20000)"
      ],
      "metadata": {
        "id": "rtOBM3i7pAFc"
      },
      "execution_count": 27,
      "outputs": []
    },
    {
      "cell_type": "code",
      "source": [
        "from sklearn.metrics.pairwise import cosine_similarity\n",
        "from sklearn.feature_extraction.text import TfidfVectorizer\n"
      ],
      "metadata": {
        "id": "c_4NTG_ufSgl"
      },
      "execution_count": 28,
      "outputs": []
    },
    {
      "cell_type": "markdown",
      "source": [
        "**Create a TF-IDF vectorizer**"
      ],
      "metadata": {
        "id": "0SIdVhzlqu67"
      }
    },
    {
      "cell_type": "code",
      "source": [
        "tfidf_vectorizer = TfidfVectorizer(stop_words='english')\n"
      ],
      "metadata": {
        "id": "SxrkzCF1fnEN"
      },
      "execution_count": 29,
      "outputs": []
    },
    {
      "cell_type": "code",
      "source": [
        "subset_genres_matrix = tfidf_vectorizer.fit_transform(subset_movies['genres']+subset_movies['tag_x']+subset_movies['tag_y'])\n"
      ],
      "metadata": {
        "id": "cD_LlPKJpGQn"
      },
      "execution_count": 30,
      "outputs": []
    },
    {
      "cell_type": "code",
      "source": [
        "cosine_similarities = cosine_similarity(subset_genres_matrix, subset_genres_matrix)\n"
      ],
      "metadata": {
        "id": "-R3AHDeRpMI5"
      },
      "execution_count": 31,
      "outputs": []
    },
    {
      "cell_type": "markdown",
      "source": [
        "**Function to get movie recommendations based on title similarity**"
      ],
      "metadata": {
        "id": "4XMDG_FQoxzg"
      }
    },
    {
      "cell_type": "code",
      "source": [
        "\n",
        "\n",
        "def get_movie_recommendations(title, cosine_similarities, consolidated_data, top_n=5):\n",
        "    index = consolidated_data[consolidated_data['title'] == title].index[0]\n",
        "    similarities = list(enumerate(cosine_similarities[index]))\n",
        "    similarities = sorted(similarities, key=lambda x: x[1], reverse=True)\n",
        "    top_similar_movies = similarities[1:top_n + 1]\n",
        "    recommended_movies = consolidated_data.iloc[[movie[0] for movie in top_similar_movies]]['title'].tolist()\n",
        "    return recommended_movies\n"
      ],
      "metadata": {
        "id": "aWHGonMgczpT"
      },
      "execution_count": 32,
      "outputs": []
    },
    {
      "cell_type": "markdown",
      "source": [
        "Example"
      ],
      "metadata": {
        "id": "RA8NTjkJo36S"
      }
    },
    {
      "cell_type": "code",
      "source": [
        "\n",
        "input_movie = 'Ice Age (2002)'\n",
        "recommended_movies = get_movie_recommendations(input_movie, cosine_similarities, consolidated_data)\n",
        "print(f\"Recommended movies for '{input_movie}':\")\n",
        "for movie in recommended_movies:\n",
        "    print(movie)"
      ],
      "metadata": {
        "colab": {
          "base_uri": "https://localhost:8080/"
        },
        "id": "kqgsLC9woxGB",
        "outputId": "24da496b-3474-4d51-fd00-5a1ae1da9125"
      },
      "execution_count": 33,
      "outputs": [
        {
          "output_type": "stream",
          "name": "stdout",
          "text": [
            "Recommended movies for 'Ice Age (2002)':\n",
            "Bug's Life, A (1998)\n",
            "Finding Nemo (2003)\n",
            "Toy Story (1995)\n",
            "Monsters, Inc. (2001)\n",
            "Toy Story 2 (1999)\n"
          ]
        }
      ]
    },
    {
      "cell_type": "code",
      "source": [],
      "metadata": {
        "id": "Y5LRD7SSpFGq"
      },
      "execution_count": null,
      "outputs": []
    }
  ]
}